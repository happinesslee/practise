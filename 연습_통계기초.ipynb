{
  "nbformat": 4,
  "nbformat_minor": 0,
  "metadata": {
    "colab": {
      "provenance": [],
      "toc_visible": true,
      "authorship_tag": "ABX9TyMqLALV345AtKgVEfLP5wS8",
      "include_colab_link": true
    },
    "kernelspec": {
      "name": "python3",
      "display_name": "Python 3"
    },
    "language_info": {
      "name": "python"
    }
  },
  "cells": [
    {
      "cell_type": "markdown",
      "metadata": {
        "id": "view-in-github",
        "colab_type": "text"
      },
      "source": [
        "<a href=\"https://colab.research.google.com/github/happinesslee/practise/blob/main/%EC%97%B0%EC%8A%B5_%ED%86%B5%EA%B3%84%EA%B8%B0%EC%B4%88.ipynb\" target=\"_parent\"><img src=\"https://colab.research.google.com/assets/colab-badge.svg\" alt=\"Open In Colab\"/></a>"
      ]
    },
    {
      "cell_type": "markdown",
      "source": [
        "# 통계 기초"
      ],
      "metadata": {
        "id": "2bXOzDB5GKKX"
      }
    },
    {
      "cell_type": "markdown",
      "source": [
        "## 통계 예제 복습"
      ],
      "metadata": {
        "id": "Bg41NcNrGNyg"
      }
    },
    {
      "cell_type": "code",
      "execution_count": null,
      "metadata": {
        "id": "thiEb2x6GJib"
      },
      "outputs": [],
      "source": []
    },
    {
      "cell_type": "markdown",
      "source": [
        "# 라이버러리 예습 복습"
      ],
      "metadata": {
        "id": "d9TVfnrPGTiy"
      }
    }
  ]
}